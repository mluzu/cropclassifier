{
 "cells": [
  {
   "cell_type": "code",
   "execution_count": null,
   "id": "ee11028e",
   "metadata": {},
   "outputs": [],
   "source": []
  },
  {
   "cell_type": "code",
   "execution_count": 6,
   "id": "16bff159",
   "metadata": {},
   "outputs": [],
   "source": [
    "from shapely.geometry import shape\n",
    "import rasterio\n",
    "from src.imagery import Collection\n",
    "from rasterio.plot import show\n",
    "from rasterio.mask import mask\n",
    "from rasterio.crs import CRS\n",
    "from rasterio.merge import merge\n",
    "from rasterio.fill import fillnodata\n",
    "from rasterio.transform import Affine\n",
    "from rasterio.warp import reproject, Resampling, transform_geom\n",
    "from rasterio import features\n",
    "from rasterio.features import geometry_mask, rasterize\n",
    "import glob\n",
    "import os\n",
    "import numpy as np\n",
    "import matplotlib.pyplot as plt"
   ]
  },
  {
   "cell_type": "code",
   "execution_count": 72,
   "id": "986c1bb0",
   "metadata": {},
   "outputs": [],
   "source": [
    "def get_cloud_mask(band=None, res=None):\n",
    "    if band is not None and res is None:\n",
    "        pattern = f'*_{band}.jp2'\n",
    "    \n",
    "    if res is not None and band is None:\n",
    "        pattern = f'*_{res}m.jp2'\n",
    "        \n",
    "    # obtiene la banda de cada tile\n",
    "    search_criteria = f\"*.SAFE/GRANULE/*/QI_DATA/{pattern}\"\n",
    "    q = os.path.join(dirpath, search_criteria)\n",
    "    dem_fps = glob.glob(q)\n",
    "\n",
    "    # load source datasets\n",
    "    files = []\n",
    "    for fp in dem_fps:\n",
    "        src = rasterio.open(fp)\n",
    "        files.append(src)\n",
    "\n",
    "    return files\n"
   ]
  },
  {
   "cell_type": "code",
   "execution_count": 73,
   "id": "f9b8b8d0",
   "metadata": {},
   "outputs": [],
   "source": [
    "maskpath = \"/home/mluzu/Downloads/S2A_MSIL2A_20210916T141051_N0301_R110_T20HMH_20210916T175608.SAFE/GRANULE/L2A_T20HMH_A032568_20210916T142000/QI_DATA/MSK_CLDPRB_20m.jp2\"\n",
    "imgpath = \"/home/mluzu/Downloads/S2A_MSIL2A_20210916T141051_N0301_R110_T20HMH_20210916T175608.SAFE/GRANULE/L2A_T20HMH_A032568_20210916T142000/IMG_DATA/R20m/T20HMH_20210916T141051_B02_20m.jp2\""
   ]
  },
  {
   "cell_type": "code",
   "execution_count": 74,
   "id": "961469a1",
   "metadata": {},
   "outputs": [],
   "source": [
    "cloud_masks = rasterio.open(maskpath)\n",
    "img = rasterio.open(imgpath)\n",
    "dst = rasterio.open(\"/home/mluzu/Downloads/\", 'w', **img.meta)"
   ]
  },
  {
   "cell_type": "code",
   "execution_count": 79,
   "id": "c4f4d6da",
   "metadata": {},
   "outputs": [
    {
     "data": {
      "text/plain": [
       "(5490, 5490)"
      ]
     },
     "execution_count": 79,
     "metadata": {},
     "output_type": "execute_result"
    }
   ],
   "source": [
    "#mask = cloud_masks.read()\n",
    "#mask = np.where(mask > 50, True,False)\n",
    "# masked_imag = np.ma.masked_array(image, mask=mask)\n",
    "mask_arr = np.ma.masked_greater_equal(cloud_masks.read(1), 50)"
   ]
  },
  {
   "cell_type": "code",
   "execution_count": 76,
   "id": "190c80ff",
   "metadata": {},
   "outputs": [],
   "source": [
    "img_arr = img.read(1)"
   ]
  },
  {
   "cell_type": "code",
   "execution_count": 86,
   "id": "4597474b",
   "metadata": {},
   "outputs": [
    {
     "ename": "ValueError",
     "evalue": "The truth value of an array with more than one element is ambiguous. Use a.any() or a.all()",
     "output_type": "error",
     "traceback": [
      "\u001b[0;31m---------------------------------------------------------------------------\u001b[0m",
      "\u001b[0;31mValueError\u001b[0m                                Traceback (most recent call last)",
      "Input \u001b[0;32mIn [86]\u001b[0m, in \u001b[0;36m<cell line: 1>\u001b[0;34m()\u001b[0m\n\u001b[0;32m----> 1\u001b[0m \u001b[43mdst\u001b[49m\u001b[38;5;241;43m.\u001b[39;49m\u001b[43mwrite_mask\u001b[49m\u001b[43m(\u001b[49m\u001b[38;5;241;43m1\u001b[39;49m\u001b[43m,\u001b[49m\u001b[43m \u001b[49m\u001b[43mmask_arr\u001b[49m\u001b[43m)\u001b[49m\n",
      "File \u001b[0;32mrasterio/_io.pyx:1570\u001b[0m, in \u001b[0;36mrasterio._io.DatasetWriterBase.write_mask\u001b[0;34m()\u001b[0m\n",
      "\u001b[0;31mValueError\u001b[0m: The truth value of an array with more than one element is ambiguous. Use a.any() or a.all()"
     ]
    }
   ],
   "source": [
    "dst.write_mask(1, mask_arr)"
   ]
  },
  {
   "cell_type": "code",
   "execution_count": null,
   "id": "35f050d1",
   "metadata": {},
   "outputs": [],
   "source": []
  }
 ],
 "metadata": {
  "kernelspec": {
   "display_name": "Python 3 (ipykernel)",
   "language": "python",
   "name": "python3"
  },
  "language_info": {
   "codemirror_mode": {
    "name": "ipython",
    "version": 3
   },
   "file_extension": ".py",
   "mimetype": "text/x-python",
   "name": "python",
   "nbconvert_exporter": "python",
   "pygments_lexer": "ipython3",
   "version": "3.8.8"
  }
 },
 "nbformat": 4,
 "nbformat_minor": 5
}
